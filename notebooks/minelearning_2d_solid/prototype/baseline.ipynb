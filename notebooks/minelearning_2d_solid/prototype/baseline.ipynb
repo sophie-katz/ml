{
 "cells": [
  {
   "attachments": {},
   "cell_type": "markdown",
   "metadata": {},
   "source": [
    "# MineLearning 2D Solid - Baseline Model\n",
    "\n",
    "This is a minimally simplistic version of MineLearning, where there is a 2D grid of solid color squares with no offset. We'll set a few different baselines to compare a ML model to.\n",
    "\n",
    "Let's start with imports:"
   ]
  },
  {
   "cell_type": "code",
   "execution_count": 12,
   "metadata": {},
   "outputs": [],
   "source": [
    "# Used for NDArray manipulation\n",
    "import numpy as np\n",
    "\n",
    "# Used to display the NDArray returned by the simulation as an image\n",
    "from matplotlib.pyplot import imshow\n",
    "\n",
    "# Import the simulation class itself\n",
    "from ml.simulations.minelearning_2d_solid import SimulationMineLearning2DSolid\n",
    "\n",
    "# Enable inline images with matplotlib\n",
    "%matplotlib inline"
   ]
  },
  {
   "attachments": {},
   "cell_type": "markdown",
   "metadata": {},
   "source": [
    "# Creating map and image\n",
    "\n",
    "The map is a representation of what blocks of solid color go where. The image is the array of pixels that display this map \"on-screen\"."
   ]
  },
  {
   "cell_type": "code",
   "execution_count": 9,
   "metadata": {},
   "outputs": [],
   "source": [
    "# Constants\n",
    "MAP_WIDTH = 6\n",
    "MAP_HEIGHT = 4\n",
    "SQUARE_SIZE = 50\n",
    "IMAGE_WIDTH = MAP_WIDTH * SQUARE_SIZE\n",
    "IMAGE_HEIGHT = MAP_HEIGHT * SQUARE_SIZE\n",
    "COLORS = [\n",
    "    (0xff, 0x00, 0x00),\n",
    "    (0x00, 0xff, 0x00),\n",
    "    (0x00, 0x00, 0xff),\n",
    "]\n",
    "\n",
    "# Create the map\n",
    "map = [\n",
    "    [\n",
    "        (x + y) % len(COLORS) for x in range(MAP_WIDTH)\n",
    "    ] for y in range(MAP_HEIGHT)\n",
    "]\n",
    "\n",
    "# Create the simulation\n",
    "simulation = SimulationMineLearning2DSolid(IMAGE_WIDTH, IMAGE_HEIGHT, SQUARE_SIZE, COLORS)\n",
    "\n",
    "# Generate a single output image\n",
    "image, _ = simulation.step(input=map)\n",
    "\n",
    "assert image.shape == (IMAGE_HEIGHT, IMAGE_WIDTH, len(COLORS))"
   ]
  },
  {
   "attachments": {},
   "cell_type": "markdown",
   "metadata": {},
   "source": [
    "# Loss"
   ]
  },
  {
   "cell_type": "code",
   "execution_count": 19,
   "metadata": {},
   "outputs": [],
   "source": [
    "def loss(expected, actual):\n",
    "    assert len(np.shape(expected)) == 2\n",
    "    assert np.shape(expected) == np.shape(actual)\n",
    "\n",
    "    equal = np.sum(np.array(expected) == np.array(actual))\n",
    "    total = (np.shape(expected)[0] * np.shape(expected)[1])\n",
    "\n",
    "    return (total - equal) / total\n",
    "\n",
    "assert loss(map, map) == 0\n",
    "assert loss(map, np.array(map) + 1) == 1"
   ]
  },
  {
   "attachments": {},
   "cell_type": "markdown",
   "metadata": {},
   "source": [
    "# Baseline model: random"
   ]
  },
  {
   "cell_type": "code",
   "execution_count": 21,
   "metadata": {},
   "outputs": [
    {
     "data": {
      "text/plain": [
       "0.6770833333333333"
      ]
     },
     "execution_count": 21,
     "metadata": {},
     "output_type": "execute_result"
    }
   ],
   "source": [
    "import random\n",
    "\n",
    "# This relies on the constants defined above, which is not ideal\n",
    "def model_random():\n",
    "    return [\n",
    "        [\n",
    "            random.randint(0, len(COLORS) - 1) for x in range(MAP_WIDTH)\n",
    "        ] for y in range(MAP_HEIGHT)\n",
    "    ]\n",
    "\n",
    "sum([loss(map, model_random()) for i in range(100)]) / 100"
   ]
  },
  {
   "cell_type": "code",
   "execution_count": null,
   "metadata": {},
   "outputs": [],
   "source": []
  }
 ],
 "metadata": {
  "kernelspec": {
   "display_name": ".venv",
   "language": "python",
   "name": "python3"
  },
  "language_info": {
   "codemirror_mode": {
    "name": "ipython",
    "version": 3
   },
   "file_extension": ".py",
   "mimetype": "text/x-python",
   "name": "python",
   "nbconvert_exporter": "python",
   "pygments_lexer": "ipython3",
   "version": "3.9.13"
  },
  "orig_nbformat": 4
 },
 "nbformat": 4,
 "nbformat_minor": 2
}
