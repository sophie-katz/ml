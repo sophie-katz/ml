{
 "cells": [
  {
   "attachments": {},
   "cell_type": "markdown",
   "metadata": {},
   "source": [
    "# MineLearning 2D Solid - Simulation\n",
    "\n",
    "This simulation is a minimally simplistic version of MineLearning, where there is a 2D grid of solid color squares with no offset. We use the `SimulationMineLearning2DSolid` class to generate output.\n",
    "\n",
    "Start by importing these modules:"
   ]
  },
  {
   "cell_type": "code",
   "execution_count": 10,
   "metadata": {},
   "outputs": [],
   "source": [
    "# Used for grid calculations\n",
    "import math\n",
    "\n",
    "# Used to display the NDArray returned by the simulation as an image\n",
    "from matplotlib.pyplot import imshow\n",
    "\n",
    "# Import the simulation class itself\n",
    "from ml.simulations.minelearning_2d_solid import SimulationMineLearning2DSolid\n",
    "\n",
    "# Enable inline images with matplotlib\n",
    "%matplotlib inline"
   ]
  },
  {
   "attachments": {},
   "cell_type": "markdown",
   "metadata": {},
   "source": [
    "We'll create a simulated environment that is 300x200 pixels and with 50 pixel blocks of solid color. We'll choose the colors to be red, green, and blue in a test pattern."
   ]
  },
  {
   "cell_type": "code",
   "execution_count": 12,
   "metadata": {},
   "outputs": [
    {
     "name": "stdout",
     "output_type": "stream",
     "text": [
      "output is of type <class 'numpy.ndarray'> with shape (200, 300, 3)\n"
     ]
    }
   ],
   "source": [
    "# Create the simulation\n",
    "simulation = SimulationMineLearning2DSolid(300, 200, 50, [\n",
    "    (0xff, 0x00, 0x00),\n",
    "    (0x00, 0xff, 0x00),\n",
    "    (0x00, 0x00, 0xff),\n",
    "])\n",
    "\n",
    "# Generate a single output image\n",
    "output, _ = simulation.step(input=[\n",
    "    [\n",
    "        (x + y) % 3 for x in range(math.ceil(simulation.width / simulation.square_size))\n",
    "    ] for y in range(math.ceil(simulation.height / simulation.square_size))\n",
    "])\n",
    "\n",
    "# Output is now an NDArray\n",
    "print(f\"output is of type {type(output)} with shape {output.shape}\")"
   ]
  },
  {
   "attachments": {},
   "cell_type": "markdown",
   "metadata": {},
   "source": [
    "The shape represents `(width, height, channel)`.\n",
    "\n",
    "Lastly, we can show the image like this:"
   ]
  },
  {
   "cell_type": "code",
   "execution_count": 9,
   "metadata": {},
   "outputs": [
    {
     "data": {
      "text/plain": [
       "<matplotlib.image.AxesImage at 0x140d0912b20>"
      ]
     },
     "execution_count": 9,
     "metadata": {},
     "output_type": "execute_result"
    },
    {
     "data": {
      "image/png": "[encoded data removed]",
      "text/plain": [
       "<Figure size 640x480 with 1 Axes>"
      ]
     },
     "metadata": {},
     "output_type": "display_data"
    }
   ],
   "source": [
    "imshow(output)"
   ]
  }
 ],
 "metadata": {
  "kernelspec": {
   "display_name": ".venv",
   "language": "python",
   "name": "python3"
  },
  "language_info": {
   "codemirror_mode": {
    "name": "ipython",
    "version": 3
   },
   "file_extension": ".py",
   "mimetype": "text/x-python",
   "name": "python",
   "nbconvert_exporter": "python",
   "pygments_lexer": "ipython3",
   "version": "3.9.13"
  },
  "orig_nbformat": 4
 },
 "nbformat": 4,
 "nbformat_minor": 2
}
