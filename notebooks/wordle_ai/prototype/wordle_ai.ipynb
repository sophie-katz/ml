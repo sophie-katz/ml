{
 "cells": [
  {
   "cell_type": "markdown",
   "id": "65ff63a3-6a60-40c3-8d3c-316bc1759443",
   "metadata": {},
   "source": [
    "# Wordle AI\n",
    "\n",
    "We start off with basic imports. `wordle_ai.py` stores most of the source code for this project, so we import it as well."
   ]
  },
  {
   "cell_type": "code",
   "execution_count": 3,
   "id": "297f953c-d1d0-4a8e-a7ec-0efb44a89dcb",
   "metadata": {},
   "outputs": [],
   "source": [
    "import json\n",
    "from wordle_ai import *\n",
    "import ml.core.repo_paths"
   ]
  },
  {
   "cell_type": "markdown",
   "id": "3ab55915-56cc-49cb-bb91-dc7cead85aad",
   "metadata": {},
   "source": [
    "`words.json` is the database of possible Wordle words taken from the Wordle source code on Feb 25, 2022. `history.json` is a database of historical Wordle answers taken from [https://gist.github.com/cfreshman/a03ef2cba789d8cf00c08f767e0fad7b](https://gist.github.com/cfreshman/a03ef2cba789d8cf00c08f767e0fad7b). We load both of these."
   ]
  },
  {
   "cell_type": "code",
   "execution_count": 4,
   "id": "56567d7b-fc6f-4e03-a383-c7ebe0175b5c",
   "metadata": {},
   "outputs": [
    {
     "name": "stdout",
     "output_type": "stream",
     "text": [
      "Words: 12947\n",
      "History: 2315\n"
     ]
    }
   ],
   "source": [
    "with open(ml.core.repo_paths.get_dir_artifacts_data_raw(\"wordle_ai\") / \"words.json\", \"r\") as file:\n",
    "    word_set = WordSet(json.load(file))\n",
    "\n",
    "print(f\"Words: {len(word_set.words)}\") # smoke test\n",
    "\n",
    "with open(ml.core.repo_paths.get_dir_artifacts_data_raw(\"wordle_ai\") / \"history.json\", \"r\") as file:\n",
    "    history = json.load(file)\n",
    "\n",
    "print(f\"History: {len(history)}\") # smoke test"
   ]
  },
  {
   "cell_type": "markdown",
   "id": "f1ecfc56-bc60-4184-92cd-4bf7526ed2a4",
   "metadata": {},
   "source": [
    "## Test 1: Baseline control\n",
    "\n",
    "The first test that we run is a baseline control with an agent that chooses words at random. It's smart enough not to choose words that don't meet the hints, but other than that it's pretty dumb."
   ]
  },
  {
   "cell_type": "code",
   "execution_count": 5,
   "id": "631518d3-5715-45dd-9e25-99da9ec2662c",
   "metadata": {},
   "outputs": [
    {
     "data": {
      "application/vnd.jupyter.widget-view+json": {
       "model_id": "dcb16a5ec0704814b152289011831060",
       "version_major": 2,
       "version_minor": 0
      },
      "text/plain": [
       "IntProgress(value=0, description='0/100')"
      ]
     },
     "metadata": {},
     "output_type": "display_data"
    },
    {
     "ename": "IndexError",
     "evalue": "list index out of range",
     "output_type": "error",
     "traceback": [
      "\u001b[1;31m---------------------------------------------------------------------------\u001b[0m",
      "\u001b[1;31mIndexError\u001b[0m                                Traceback (most recent call last)",
      "Cell \u001b[1;32mIn[5], line 3\u001b[0m\n\u001b[0;32m      1\u001b[0m wordle_simulation \u001b[39m=\u001b[39m WordleSimulation(\u001b[39mlambda\u001b[39;00m: WordleAgentRandom(word_set))\n\u001b[1;32m----> 3\u001b[0m win_ratio, hist \u001b[39m=\u001b[39m wordle_simulation\u001b[39m.\u001b[39;49mrun_many(random\u001b[39m.\u001b[39;49msample(history, \u001b[39m100\u001b[39;49m), enable_progress_bar \u001b[39m=\u001b[39;49m \u001b[39mTrue\u001b[39;49;00m)\n",
      "File \u001b[1;32mc:\\Users\\sophi\\Code\\ml\\notebooks\\wordle_ai\\prototype\\wordle_ai.py:245\u001b[0m, in \u001b[0;36mWordleSimulation.run_many\u001b[1;34m(self, words, enable_progress_bar)\u001b[0m\n\u001b[0;32m    242\u001b[0m     display(progress_bar)  \u001b[39m# type: ignore\u001b[39;00m\n\u001b[0;32m    244\u001b[0m \u001b[39mfor\u001b[39;00m index, word \u001b[39min\u001b[39;00m \u001b[39menumerate\u001b[39m(words):\n\u001b[1;32m--> 245\u001b[0m     results_game \u001b[39m=\u001b[39m \u001b[39mself\u001b[39;49m\u001b[39m.\u001b[39;49mrun(word)\n\u001b[0;32m    246\u001b[0m     \u001b[39mif\u001b[39;00m results_game[\u001b[39m1\u001b[39m]:\n\u001b[0;32m    247\u001b[0m         \u001b[39mif\u001b[39;00m \u001b[39mlen\u001b[39m(results_game[\u001b[39m2\u001b[39m]) \u001b[39min\u001b[39;00m hist_data_dict:\n",
      "File \u001b[1;32mc:\\Users\\sophi\\Code\\ml\\notebooks\\wordle_ai\\prototype\\wordle_ai.py:223\u001b[0m, in \u001b[0;36mWordleSimulation.run\u001b[1;34m(self, word)\u001b[0m\n\u001b[0;32m    220\u001b[0m agent \u001b[39m=\u001b[39m \u001b[39mself\u001b[39m\u001b[39m.\u001b[39magent_factory()\n\u001b[0;32m    222\u001b[0m \u001b[39mfor\u001b[39;00m i \u001b[39min\u001b[39;00m \u001b[39mrange\u001b[39m(TURN_COUNT):\n\u001b[1;32m--> 223\u001b[0m     results_turn \u001b[39m=\u001b[39m \u001b[39mself\u001b[39;49m\u001b[39m.\u001b[39;49m_step(agent, word, i)\n\u001b[0;32m    224\u001b[0m     results_game\u001b[39m.\u001b[39mappend(results_turn)\n\u001b[0;32m    225\u001b[0m     \u001b[39mif\u001b[39;00m results_turn[\u001b[39m0\u001b[39m]:\n",
      "File \u001b[1;32mc:\\Users\\sophi\\Code\\ml\\notebooks\\wordle_ai\\prototype\\wordle_ai.py:198\u001b[0m, in \u001b[0;36mWordleSimulation._step\u001b[1;34m(self, agent, word, turn_index)\u001b[0m\n\u001b[0;32m    195\u001b[0m \u001b[39massert\u001b[39;00m \u001b[39mlen\u001b[39m(word) \u001b[39m==\u001b[39m WORD_LENGTH\n\u001b[0;32m    196\u001b[0m \u001b[39massert\u001b[39;00m turn_index \u001b[39m>\u001b[39m\u001b[39m=\u001b[39m \u001b[39m0\u001b[39m\n\u001b[1;32m--> 198\u001b[0m guess \u001b[39m=\u001b[39m agent\u001b[39m.\u001b[39;49mact()\n\u001b[0;32m    199\u001b[0m \u001b[39massert\u001b[39;00m \u001b[39mlen\u001b[39m(guess) \u001b[39m==\u001b[39m WORD_LENGTH\n\u001b[0;32m    201\u001b[0m colors \u001b[39m=\u001b[39m {}\n",
      "File \u001b[1;32mc:\\Users\\sophi\\Code\\ml\\notebooks\\wordle_ai\\prototype\\wordle_ai.py:177\u001b[0m, in \u001b[0;36mWordleAgentRandom.act\u001b[1;34m(self)\u001b[0m\n\u001b[0;32m    176\u001b[0m \u001b[39mdef\u001b[39;00m \u001b[39mact\u001b[39m(\u001b[39mself\u001b[39m) \u001b[39m-\u001b[39m\u001b[39m>\u001b[39m \u001b[39mstr\u001b[39m:\n\u001b[1;32m--> 177\u001b[0m     \u001b[39mreturn\u001b[39;00m \u001b[39mself\u001b[39;49m\u001b[39m.\u001b[39;49mword_set\u001b[39m.\u001b[39;49mget_random_word(\u001b[39mself\u001b[39;49m\u001b[39m.\u001b[39;49mword_mask)\n",
      "File \u001b[1;32mc:\\Users\\sophi\\Code\\ml\\notebooks\\wordle_ai\\prototype\\wordle_ai.py:145\u001b[0m, in \u001b[0;36mWordSet.get_random_word\u001b[1;34m(self, mask)\u001b[0m\n\u001b[0;32m    144\u001b[0m \u001b[39mdef\u001b[39;00m \u001b[39mget_random_word\u001b[39m(\u001b[39mself\u001b[39m, mask: WordMask \u001b[39m=\u001b[39m WordMask()) \u001b[39m-\u001b[39m\u001b[39m>\u001b[39m \u001b[39mstr\u001b[39m:\n\u001b[1;32m--> 145\u001b[0m     \u001b[39mreturn\u001b[39;00m random\u001b[39m.\u001b[39;49mchoice([word \u001b[39mfor\u001b[39;49;00m word \u001b[39min\u001b[39;49;00m \u001b[39mself\u001b[39;49m\u001b[39m.\u001b[39;49mwords \u001b[39mif\u001b[39;49;00m mask\u001b[39m.\u001b[39;49mmatches(word)])\n",
      "File \u001b[1;32m~\\.pyenv\\pyenv-win\\versions\\3.9.13\\lib\\random.py:346\u001b[0m, in \u001b[0;36mRandom.choice\u001b[1;34m(self, seq)\u001b[0m\n\u001b[0;32m    344\u001b[0m \u001b[39m\u001b[39m\u001b[39m\"\"\"Choose a random element from a non-empty sequence.\"\"\"\u001b[39;00m\n\u001b[0;32m    345\u001b[0m \u001b[39m# raises IndexError if seq is empty\u001b[39;00m\n\u001b[1;32m--> 346\u001b[0m \u001b[39mreturn\u001b[39;00m seq[\u001b[39mself\u001b[39;49m\u001b[39m.\u001b[39;49m_randbelow(\u001b[39mlen\u001b[39;49m(seq))]\n",
      "\u001b[1;31mIndexError\u001b[0m: list index out of range"
     ]
    }
   ],
   "source": [
    "wordle_simulation = WordleSimulation(lambda: WordleAgentRandom(word_set))\n",
    "\n",
    "win_ratio, hist = wordle_simulation.run_many(random.sample(history, 100), enable_progress_bar = True)"
   ]
  },
  {
   "cell_type": "code",
   "execution_count": null,
   "id": "cac28428-d9cb-48e7-ad08-2d80d7236e80",
   "metadata": {},
   "outputs": [],
   "source": [
    "hist"
   ]
  },
  {
   "cell_type": "code",
   "execution_count": null,
   "id": "7f109140-a7e7-44fa-9f0b-3a52f55d6bff",
   "metadata": {},
   "outputs": [],
   "source": [
    "win_ratio"
   ]
  },
  {
   "cell_type": "markdown",
   "id": "7365f0af-7297-4430-aef7-53b2a5b74593",
   "metadata": {},
   "source": [
    "## Test 2: With letter frequency\n",
    "\n",
    "Let us then compare this to the same agent that chooses its guesses by which letters are most common."
   ]
  },
  {
   "cell_type": "code",
   "execution_count": 6,
   "id": "6f9b335c-221d-4ad0-a8d7-bd8ddc61cb23",
   "metadata": {},
   "outputs": [
    {
     "data": {
      "application/vnd.jupyter.widget-view+json": {
       "model_id": "d3a54213bfed454d86bacf9a1ec0bc63",
       "version_major": 2,
       "version_minor": 0
      },
      "text/plain": [
       "IntProgress(value=0, description='0/100')"
      ]
     },
     "metadata": {},
     "output_type": "display_data"
    }
   ],
   "source": [
    "wordle_simulation = WordleSimulation(lambda: WordleAgentLetterFrequencySum(word_set))\n",
    "\n",
    "win_ratio, hist = wordle_simulation.run_many(random.sample(history, 100), enable_progress_bar = True)"
   ]
  },
  {
   "cell_type": "code",
   "execution_count": null,
   "id": "d92e7102-a273-4367-82f5-0320a9a7b166",
   "metadata": {},
   "outputs": [],
   "source": [
    "hist"
   ]
  },
  {
   "cell_type": "code",
   "execution_count": null,
   "id": "2170e9e2-35a6-4d09-b7c9-76a4ad367040",
   "metadata": {},
   "outputs": [],
   "source": [
    "win_ratio"
   ]
  },
  {
   "cell_type": "code",
   "execution_count": null,
   "id": "24380782-8b77-4483-add7-d7a15155ec3e",
   "metadata": {},
   "outputs": [],
   "source": []
  }
 ],
 "metadata": {
  "kernelspec": {
   "display_name": "Python 3 (ipykernel)",
   "language": "python",
   "name": "python3"
  },
  "language_info": {
   "codemirror_mode": {
    "name": "ipython",
    "version": 3
   },
   "file_extension": ".py",
   "mimetype": "text/x-python",
   "name": "python",
   "nbconvert_exporter": "python",
   "pygments_lexer": "ipython3",
   "version": "3.9.13"
  }
 },
 "nbformat": 4,
 "nbformat_minor": 5
}
