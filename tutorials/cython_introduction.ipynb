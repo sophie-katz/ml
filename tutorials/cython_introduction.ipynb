{
 "cells": [
  {
   "cell_type": "code",
   "execution_count": null,
   "metadata": {},
   "outputs": [],
   "source": [
    "# Copyright (c) 2023 Sophie Katz\n",
    "#\n",
    "# This file is part of Sophie's ML Monorepo.\n",
    "#\n",
    "# Sophie's ML Monorepo is free software: you can redistribute it and/or modify it under\n",
    "# the terms of the GNU General Public License as published by the Free Software\n",
    "# Foundation, either version 3 of the License, or (at your option) any later version.\n",
    "#\n",
    "# Sophie's ML Monorepo is distributed in the hope that it will be useful, but WITHOUT\n",
    "# ANY WARRANTY; without even the implied warranty of MERCHANTABILITY or FITNESS FOR A\n",
    "# PARTICULAR PURPOSE. See the GNU General Public License for more details.\n",
    "#\n",
    "# You should have received a copy of the GNU General Public License along with Sophie's\n",
    "# ML Monorepo. If not, see <https://www.gnu.org/licenses/>."
   ]
  },
  {
   "attachments": {},
   "cell_type": "markdown",
   "metadata": {},
   "source": [
    "# Optimizing with Cython Introduction - Cython Tutorial\n",
    "\n",
    "Tutorial URL: https://pythonprogramming.net/introduction-and-basics-cython-tutorial/\n",
    "\n",
    "Valid as of: 2023.05.06\n",
    "\n",
    "## Cython extension\n",
    "\n",
    "We start by loading the Cython extention to enable Cython magic commands in the notebook."
   ]
  },
  {
   "cell_type": "code",
   "execution_count": 2,
   "metadata": {},
   "outputs": [],
   "source": [
    "%load_ext Cython"
   ]
  },
  {
   "attachments": {},
   "cell_type": "markdown",
   "metadata": {},
   "source": [
    "## Comparing Python with Cython\n",
    "\n",
    "Here's a brute force fibonacci sequence function in regular Python:"
   ]
  },
  {
   "cell_type": "code",
   "execution_count": 3,
   "metadata": {},
   "outputs": [],
   "source": [
    "def fib_python(n):\n",
    "    if n <= 1:\n",
    "        return 1\n",
    "    else:\n",
    "        return fib_python(n - 1) + fib_python(n - 2)\n",
    "\n",
    "assert fib_python(0) == 1\n",
    "assert fib_python(1) == 1\n",
    "assert fib_python(2) == 2\n",
    "assert fib_python(3) == 3\n",
    "assert fib_python(4) == 5\n",
    "assert fib_python(5) == 8"
   ]
  },
  {
   "attachments": {},
   "cell_type": "markdown",
   "metadata": {},
   "source": [
    "And here's a similar function but this time in Cython:"
   ]
  },
  {
   "cell_type": "code",
   "execution_count": 20,
   "metadata": {},
   "outputs": [],
   "source": [
    "%%cython\n",
    "\n",
    "cpdef int fib_cython(int n):\n",
    "    if n <= 1:\n",
    "        return 1\n",
    "    else:\n",
    "        return fib_cython(n - 1) + fib_cython(n - 2)"
   ]
  },
  {
   "attachments": {},
   "cell_type": "markdown",
   "metadata": {},
   "source": [
    "Comparing the times, we see a stark difference:"
   ]
  },
  {
   "cell_type": "code",
   "execution_count": 22,
   "metadata": {},
   "outputs": [
    {
     "name": "stdout",
     "output_type": "stream",
     "text": [
      "CPU times: total: 2.5 s\n",
      "Wall time: 2.5 s\n"
     ]
    },
    {
     "data": {
      "text/plain": [
       "14930352"
      ]
     },
     "execution_count": 22,
     "metadata": {},
     "output_type": "execute_result"
    }
   ],
   "source": [
    "%time fib_python(35)"
   ]
  },
  {
   "cell_type": "code",
   "execution_count": 21,
   "metadata": {},
   "outputs": [
    {
     "name": "stdout",
     "output_type": "stream",
     "text": [
      "CPU times: total: 62.5 ms\n",
      "Wall time: 55 ms\n"
     ]
    },
    {
     "data": {
      "text/plain": [
       "14930352"
      ]
     },
     "execution_count": 21,
     "metadata": {},
     "output_type": "execute_result"
    }
   ],
   "source": [
    "%time fib_cython(35)"
   ]
  }
 ],
 "metadata": {
  "kernelspec": {
   "display_name": ".venv",
   "language": "python",
   "name": "python3"
  },
  "language_info": {
   "codemirror_mode": {
    "name": "ipython",
    "version": 3
   },
   "file_extension": ".py",
   "mimetype": "text/x-python",
   "name": "python",
   "nbconvert_exporter": "python",
   "pygments_lexer": "ipython3",
   "version": "3.9.13"
  },
  "orig_nbformat": 4
 },
 "nbformat": 4,
 "nbformat_minor": 2
}
