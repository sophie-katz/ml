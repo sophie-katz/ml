{
 "cells": [
  {
   "attachments": {},
   "cell_type": "markdown",
   "metadata": {},
   "source": [
    "# TensorFlow 2 quickstart for beginners\n",
    "\n",
    "Tutorial URL: https://www.tensorflow.org/tutorials/quickstart/beginner\n",
    "\n",
    "Valid as of: 2023.05.01\n",
    "\n",
    "## Imports"
   ]
  },
  {
   "cell_type": "code",
   "execution_count": 1,
   "metadata": {},
   "outputs": [
    {
     "name": "stdout",
     "output_type": "stream",
     "text": [
      "TensorFlow version: 2.10.1\n"
     ]
    }
   ],
   "source": [
    "import tensorflow as tf\n",
    "\n",
    "print(f\"TensorFlow version: {tf.__version__}\")"
   ]
  },
  {
   "attachments": {},
   "cell_type": "markdown",
   "metadata": {},
   "source": [
    "# Loading the dataset"
   ]
  },
  {
   "cell_type": "code",
   "execution_count": 2,
   "metadata": {},
   "outputs": [
    {
     "name": "stdout",
     "output_type": "stream",
     "text": [
      "Downloading data from https://storage.googleapis.com/tensorflow/tf-keras-datasets/mnist.npz\n",
      "11490434/11490434 [==============================] - 1s 0us/step\n"
     ]
    }
   ],
   "source": [
    "# Use prebuilt MNIST dataset\n",
    "dataset_mnist = tf.keras.datasets.mnist\n",
    "\n",
    "# Load data from dataset\n",
    "(data_train, label_train), (data_test, label_test) = dataset_mnist.load_data()\n",
    "\n",
    "# Normalize data\n",
    "data_train = data_train / 255.0\n",
    "data_test = data_test / 255.0"
   ]
  },
  {
   "cell_type": "markdown",
   "metadata": {},
   "source": [
    "# Declare model"
   ]
  },
  {
   "cell_type": "code",
   "execution_count": 4,
   "metadata": {},
   "outputs": [
    {
     "name": "stdout",
     "output_type": "stream",
     "text": [
      "\n",
      "Initial prediction:\n",
      "[[-0.0254974  -0.40582588  0.16427413  0.12082408  0.50404125 -0.09009659\n",
      "   0.19851345  0.42828867 -0.24796969 -0.04879241]]\n",
      "\n",
      "Probabilities:\n",
      "[[0.08858473 0.06055978 0.10709658 0.10254287 0.15043004 0.08304314\n",
      "  0.11082698 0.1394555  0.07091537 0.086545  ]]\n",
      "\n",
      "Loss:\n",
      "2.488395\n"
     ]
    }
   ],
   "source": [
    "# Declare model\n",
    "model = tf.keras.models.Sequential(\n",
    "    [\n",
    "        tf.keras.layers.Flatten(input_shape=(28, 28)),\n",
    "        tf.keras.layers.Dense(128, activation=\"relu\"),\n",
    "        tf.keras.layers.Dropout(0.2),\n",
    "        tf.keras.layers.Dense(10),\n",
    "    ]\n",
    ")\n",
    "\n",
    "# Get an initial prediction from the untrained model\n",
    "predictions = model(data_train[:1]).numpy()\n",
    "\n",
    "print()\n",
    "print(\"Initial prediction:\")\n",
    "print(predictions)\n",
    "\n",
    "print()\n",
    "print(\"Probabilities:\")\n",
    "print(tf.nn.softmax(predictions).numpy())\n",
    "\n",
    "# Declare loss\n",
    "loss_function = tf.keras.losses.SparseCategoricalCrossentropy(from_logits=True)\n",
    "\n",
    "# Test loss on initial prediction\n",
    "print()\n",
    "print(\"Loss:\")\n",
    "print(loss_function(label_train[:1], predictions).numpy())\n",
    "\n",
    "# Compile model\n",
    "model.compile(optimizer=\"adam\", loss=loss_function, metrics=[\"accuracy\"])"
   ]
  },
  {
   "attachments": {},
   "cell_type": "markdown",
   "metadata": {},
   "source": [
    "# Train model"
   ]
  },
  {
   "cell_type": "code",
   "execution_count": 5,
   "metadata": {},
   "outputs": [
    {
     "name": "stdout",
     "output_type": "stream",
     "text": [
      "Epoch 1/5\n",
      "1875/1875 [==============================] - 8s 4ms/step - loss: 0.3000 - accuracy: 0.9128\n",
      "Epoch 2/5\n",
      "1875/1875 [==============================] - 7s 4ms/step - loss: 0.1459 - accuracy: 0.9569\n",
      "Epoch 3/5\n",
      "1875/1875 [==============================] - 7s 4ms/step - loss: 0.1086 - accuracy: 0.9677\n",
      "Epoch 4/5\n",
      "1875/1875 [==============================] - 7s 4ms/step - loss: 0.0888 - accuracy: 0.9725\n",
      "Epoch 5/5\n",
      "1875/1875 [==============================] - 8s 4ms/step - loss: 0.0741 - accuracy: 0.9771\n"
     ]
    },
    {
     "data": {
      "text/plain": [
       "<keras.callbacks.History at 0x1749ebe8640>"
      ]
     },
     "execution_count": 5,
     "metadata": {},
     "output_type": "execute_result"
    }
   ],
   "source": [
    "model.fit(data_train, label_train, epochs=5)"
   ]
  },
  {
   "attachments": {},
   "cell_type": "markdown",
   "metadata": {},
   "source": [
    "# Evaluate"
   ]
  },
  {
   "cell_type": "code",
   "execution_count": 6,
   "metadata": {},
   "outputs": [
    {
     "name": "stdout",
     "output_type": "stream",
     "text": [
      "313/313 - 1s - loss: 0.0697 - accuracy: 0.9799 - 980ms/epoch - 3ms/step\n",
      "\n",
      "Probability predictions:\n",
      "[[1.4186654e-07 4.0832706e-08 7.7834520e-06 2.8146064e-04 3.0218666e-12\n",
      "  1.0888057e-07 1.3943410e-12 9.9968731e-01 4.2500092e-06 1.8843850e-05]\n",
      " [1.5560742e-07 1.7292735e-04 9.9980229e-01 3.9733045e-06 9.7514912e-16\n",
      "  1.9326473e-05 4.3459690e-07 1.0691039e-11 9.6105657e-07 1.8112915e-12]\n",
      " [1.0055400e-06 9.9849081e-01 2.3338964e-04 5.2179844e-06 8.2537204e-05\n",
      "  1.7034252e-05 1.8516510e-04 6.0143264e-04 3.8288545e-04 5.1553707e-07]\n",
      " [9.9994862e-01 1.2139199e-07 1.3643693e-05 2.1052711e-07 4.3484107e-08\n",
      "  3.0269612e-06 1.3700215e-05 7.5433331e-06 3.9644738e-07 1.2732527e-05]\n",
      " [5.5431116e-07 1.0039849e-09 1.5255280e-05 9.6299213e-10 9.9938118e-01\n",
      "  7.2988087e-09 1.0742268e-07 3.2563974e-05 2.5218355e-07 5.7009939e-04]]\n"
     ]
    }
   ],
   "source": [
    "# Evaluate model\n",
    "model.evaluate(data_test, label_test, verbose=2)\n",
    "\n",
    "# Wrap model with softmax\n",
    "model_probability = tf.keras.Sequential([model, tf.keras.layers.Softmax()])\n",
    "\n",
    "# Get predictions from probability model\n",
    "print()\n",
    "print(\"Probability predictions:\")\n",
    "print(model_probability(data_test[:5]).numpy())"
   ]
  }
 ],
 "metadata": {
  "kernelspec": {
   "display_name": ".venv",
   "language": "python",
   "name": "python3"
  },
  "language_info": {
   "codemirror_mode": {
    "name": "ipython",
    "version": 3
   },
   "file_extension": ".py",
   "mimetype": "text/x-python",
   "name": "python",
   "nbconvert_exporter": "python",
   "pygments_lexer": "ipython3",
   "version": "3.9.13"
  },
  "orig_nbformat": 4
 },
 "nbformat": 4,
 "nbformat_minor": 2
}
