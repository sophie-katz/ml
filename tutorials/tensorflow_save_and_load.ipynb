{
 "cells": [
  {
   "attachments": {},
   "cell_type": "markdown",
   "metadata": {},
   "source": [
    "# Save and load models\n",
    "\n",
    "Tutorial URL: https://www.tensorflow.org/tutorials/keras/save_and_load\n",
    "\n",
    "Valid as of: 2023.05.02\n",
    "\n",
    "## Imports"
   ]
  },
  {
   "cell_type": "code",
   "execution_count": 1,
   "metadata": {},
   "outputs": [
    {
     "name": "stdout",
     "output_type": "stream",
     "text": [
      "TensorFlow version: 2.10.1\n"
     ]
    }
   ],
   "source": [
    "import ml.core.repo_paths\n",
    "import tensorflow as tf\n",
    "\n",
    "print(f\"TensorFlow version: {tf.__version__}\")"
   ]
  },
  {
   "attachments": {},
   "cell_type": "markdown",
   "metadata": {},
   "source": [
    "# Loading the dataset"
   ]
  },
  {
   "cell_type": "code",
   "execution_count": 5,
   "metadata": {},
   "outputs": [],
   "source": [
    "# Use prebuilt MNIST dataset\n",
    "(data_train, label_train), (data_test, label_test) = tf.keras.datasets.mnist.load_data()\n",
    "\n",
    "# Normalize data\n",
    "data_train = data_train / 255.0\n",
    "data_test = data_test / 255.0"
   ]
  },
  {
   "attachments": {},
   "cell_type": "markdown",
   "metadata": {},
   "source": [
    "# Declare model"
   ]
  },
  {
   "cell_type": "code",
   "execution_count": 6,
   "metadata": {},
   "outputs": [],
   "source": [
    "# Declare model\n",
    "model = tf.keras.models.Sequential(\n",
    "    [\n",
    "        tf.keras.layers.Flatten(input_shape=(28, 28)),\n",
    "        tf.keras.layers.Dense(128, activation=\"relu\"),\n",
    "        tf.keras.layers.Dropout(0.2),\n",
    "        tf.keras.layers.Dense(10),\n",
    "    ]\n",
    ")\n",
    "\n",
    "# Compile model\n",
    "model.compile(\n",
    "    optimizer=\"adam\",\n",
    "    loss=tf.keras.losses.SparseCategoricalCrossentropy(from_logits=True),\n",
    "    metrics=[\"accuracy\"],\n",
    ")"
   ]
  },
  {
   "attachments": {},
   "cell_type": "markdown",
   "metadata": {},
   "source": [
    "# Train with checkpoints"
   ]
  },
  {
   "cell_type": "code",
   "execution_count": 7,
   "metadata": {},
   "outputs": [
    {
     "name": "stdout",
     "output_type": "stream",
     "text": [
      "Epoch 1/10\n",
      "1865/1875 [============================>.] - ETA: 0s - loss: 0.2920 - accuracy: 0.9152\n",
      "Epoch 1: saving model to c:\\Users\\sophi\\Code\\ml\\artifacts\\checkpoints\\tutorial_tensorflow_save_and_load\\cp.ckpt\n",
      "1875/1875 [==============================] - 8s 4ms/step - loss: 0.2914 - accuracy: 0.9154 - val_loss: 0.1391 - val_accuracy: 0.9589\n",
      "Epoch 2/10\n",
      "1865/1875 [============================>.] - ETA: 0s - loss: 0.1434 - accuracy: 0.9576\n",
      "Epoch 2: saving model to c:\\Users\\sophi\\Code\\ml\\artifacts\\checkpoints\\tutorial_tensorflow_save_and_load\\cp.ckpt\n",
      "1875/1875 [==============================] - 7s 3ms/step - loss: 0.1434 - accuracy: 0.9576 - val_loss: 0.1010 - val_accuracy: 0.9701\n",
      "Epoch 3/10\n",
      "1870/1875 [============================>.] - ETA: 0s - loss: 0.1094 - accuracy: 0.9664\n",
      "Epoch 3: saving model to c:\\Users\\sophi\\Code\\ml\\artifacts\\checkpoints\\tutorial_tensorflow_save_and_load\\cp.ckpt\n",
      "1875/1875 [==============================] - 7s 3ms/step - loss: 0.1092 - accuracy: 0.9665 - val_loss: 0.0877 - val_accuracy: 0.9733\n",
      "Epoch 4/10\n",
      "1866/1875 [============================>.] - ETA: 0s - loss: 0.0899 - accuracy: 0.9722\n",
      "Epoch 4: saving model to c:\\Users\\sophi\\Code\\ml\\artifacts\\checkpoints\\tutorial_tensorflow_save_and_load\\cp.ckpt\n",
      "1875/1875 [==============================] - 7s 4ms/step - loss: 0.0897 - accuracy: 0.9722 - val_loss: 0.0760 - val_accuracy: 0.9775\n",
      "Epoch 5/10\n",
      "1874/1875 [============================>.] - ETA: 0s - loss: 0.0746 - accuracy: 0.9761\n",
      "Epoch 5: saving model to c:\\Users\\sophi\\Code\\ml\\artifacts\\checkpoints\\tutorial_tensorflow_save_and_load\\cp.ckpt\n",
      "1875/1875 [==============================] - 7s 4ms/step - loss: 0.0746 - accuracy: 0.9761 - val_loss: 0.0773 - val_accuracy: 0.9769\n",
      "Epoch 6/10\n",
      "1859/1875 [============================>.] - ETA: 0s - loss: 0.0678 - accuracy: 0.9784\n",
      "Epoch 6: saving model to c:\\Users\\sophi\\Code\\ml\\artifacts\\checkpoints\\tutorial_tensorflow_save_and_load\\cp.ckpt\n",
      "1875/1875 [==============================] - 7s 4ms/step - loss: 0.0681 - accuracy: 0.9784 - val_loss: 0.0740 - val_accuracy: 0.9781\n",
      "Epoch 7/10\n",
      "1867/1875 [============================>.] - ETA: 0s - loss: 0.0601 - accuracy: 0.9807\n",
      "Epoch 7: saving model to c:\\Users\\sophi\\Code\\ml\\artifacts\\checkpoints\\tutorial_tensorflow_save_and_load\\cp.ckpt\n",
      "1875/1875 [==============================] - 9s 5ms/step - loss: 0.0601 - accuracy: 0.9807 - val_loss: 0.0793 - val_accuracy: 0.9776\n",
      "Epoch 8/10\n",
      "1865/1875 [============================>.] - ETA: 0s - loss: 0.0546 - accuracy: 0.9824\n",
      "Epoch 8: saving model to c:\\Users\\sophi\\Code\\ml\\artifacts\\checkpoints\\tutorial_tensorflow_save_and_load\\cp.ckpt\n",
      "1875/1875 [==============================] - 9s 5ms/step - loss: 0.0545 - accuracy: 0.9824 - val_loss: 0.0756 - val_accuracy: 0.9776\n",
      "Epoch 9/10\n",
      "1868/1875 [============================>.] - ETA: 0s - loss: 0.0492 - accuracy: 0.9835\n",
      "Epoch 9: saving model to c:\\Users\\sophi\\Code\\ml\\artifacts\\checkpoints\\tutorial_tensorflow_save_and_load\\cp.ckpt\n",
      "1875/1875 [==============================] - 9s 5ms/step - loss: 0.0492 - accuracy: 0.9835 - val_loss: 0.0690 - val_accuracy: 0.9786\n",
      "Epoch 10/10\n",
      "1873/1875 [============================>.] - ETA: 0s - loss: 0.0455 - accuracy: 0.9853\n",
      "Epoch 10: saving model to c:\\Users\\sophi\\Code\\ml\\artifacts\\checkpoints\\tutorial_tensorflow_save_and_load\\cp.ckpt\n",
      "1875/1875 [==============================] - 9s 5ms/step - loss: 0.0455 - accuracy: 0.9853 - val_loss: 0.0684 - val_accuracy: 0.9812\n"
     ]
    },
    {
     "data": {
      "text/plain": [
       "<keras.callbacks.History at 0x1cd1f7fbdc0>"
      ]
     },
     "execution_count": 7,
     "metadata": {},
     "output_type": "execute_result"
    }
   ],
   "source": [
    "model.fit(\n",
    "    data_train,\n",
    "    label_train,\n",
    "    epochs=10,\n",
    "    validation_data=(data_test, label_test),\n",
    "    callbacks=[\n",
    "        tf.keras.callbacks.ModelCheckpoint(\n",
    "            filepath=ml.core.repo_paths.get_dir_checkpoints(\"tutorial_tensorflow_save_and_load\") / \"cp.ckpt\", save_weights_only=True, verbose=1\n",
    "        )\n",
    "    ],\n",
    ")"
   ]
  },
  {
   "attachments": {},
   "cell_type": "markdown",
   "metadata": {},
   "source": [
    "# Load model"
   ]
  },
  {
   "cell_type": "code",
   "execution_count": 9,
   "metadata": {},
   "outputs": [
    {
     "data": {
      "text/plain": [
       "<tensorflow.python.checkpoint.checkpoint.CheckpointLoadStatus at 0x1cd4c256fa0>"
      ]
     },
     "execution_count": 9,
     "metadata": {},
     "output_type": "execute_result"
    }
   ],
   "source": [
    "# Create untrained model\n",
    "model = tf.keras.models.Sequential(\n",
    "    [\n",
    "        tf.keras.layers.Flatten(input_shape=(28, 28)),\n",
    "        tf.keras.layers.Dense(128, activation=\"relu\"),\n",
    "        tf.keras.layers.Dropout(0.2),\n",
    "        tf.keras.layers.Dense(10),\n",
    "    ]\n",
    ")\n",
    "\n",
    "model.compile(\n",
    "    optimizer=\"adam\",\n",
    "    loss=tf.keras.losses.SparseCategoricalCrossentropy(from_logits=True),\n",
    "    metrics=[\"accuracy\"],\n",
    ")\n",
    "\n",
    "# Load weights\n",
    "model.load_weights(ml.core.repo_paths.get_dir_checkpoints(\"tutorial_tensorflow_save_and_load\") / \"cp.ckpt\")"
   ]
  },
  {
   "attachments": {},
   "cell_type": "markdown",
   "metadata": {},
   "source": [
    "# Evaluate in different formats"
   ]
  },
  {
   "cell_type": "code",
   "execution_count": 10,
   "metadata": {},
   "outputs": [
    {
     "name": "stdout",
     "output_type": "stream",
     "text": [
      "313/313 - 1s - loss: 0.0684 - accuracy: 0.9812 - 1s/epoch - 4ms/step\n",
      "INFO:tensorflow:Assets written to: c:\\Users\\sophi\\Code\\ml\\artifacts\\models\\tutorial_tensorflow_save_and_load\\mnist\\assets\n",
      "313/313 - 1s - loss: 0.0684 - accuracy: 0.9812 - 1000ms/epoch - 3ms/step\n",
      "313/313 - 1s - loss: 0.0684 - accuracy: 0.9812 - 1s/epoch - 4ms/step\n"
     ]
    },
    {
     "data": {
      "text/plain": [
       "[0.06838671863079071, 0.9811999797821045]"
      ]
     },
     "execution_count": 10,
     "metadata": {},
     "output_type": "execute_result"
    }
   ],
   "source": [
    "# Evaluate\n",
    "model.evaluate(data_test, label_test, verbose=2)\n",
    "\n",
    "# Save entire model in SavedModel\n",
    "model.save(ml.core.repo_paths.get_dir_models(\"tutorial_tensorflow_save_and_load\") / \"mnist\")\n",
    "\n",
    "# Load the entire model\n",
    "model = tf.keras.models.load_model(ml.core.repo_paths.get_dir_models(\"tutorial_tensorflow_save_and_load\") / \"mnist\")\n",
    "\n",
    "model.evaluate(data_test, label_test, verbose=2)\n",
    "\n",
    "# Save the entire model in HDF5\n",
    "model.save(ml.core.repo_paths.get_dir_models(\"tutorial_tensorflow_save_and_load\") / \"mnist.h5\")\n",
    "\n",
    "# Load the entire model again\n",
    "model = tf.keras.models.load_model(ml.core.repo_paths.get_dir_models(\"tutorial_tensorflow_save_and_load\") / \"mnist.h5\")\n",
    "\n",
    "model.evaluate(data_test, label_test, verbose=2)"
   ]
  }
 ],
 "metadata": {
  "kernelspec": {
   "display_name": ".venv",
   "language": "python",
   "name": "python3"
  },
  "language_info": {
   "codemirror_mode": {
    "name": "ipython",
    "version": 3
   },
   "file_extension": ".py",
   "mimetype": "text/x-python",
   "name": "python",
   "nbconvert_exporter": "python",
   "pygments_lexer": "ipython3",
   "version": "3.9.13"
  },
  "orig_nbformat": 4
 },
 "nbformat": 4,
 "nbformat_minor": 2
}
