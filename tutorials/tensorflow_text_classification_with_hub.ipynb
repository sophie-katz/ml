{
 "cells": [
  {
   "attachments": {},
   "cell_type": "markdown",
   "metadata": {},
   "source": [
    "# Text classification with TensorFlow Hub: Movie reviews\n",
    "\n",
    "Tutorial URL: https://www.tensorflow.org/tutorials/keras/text_classification_with_hub\n",
    "\n",
    "Valid as of: 2023.05.02\n",
    "\n",
    "## Imports"
   ]
  },
  {
   "cell_type": "code",
   "execution_count": 1,
   "metadata": {},
   "outputs": [
    {
     "name": "stderr",
     "output_type": "stream",
     "text": [
      "c:\\Users\\sophi\\Code\\ml\\.venv\\lib\\site-packages\\tqdm\\auto.py:21: TqdmWarning: IProgress not found. Please update jupyter and ipywidgets. See https://ipywidgets.readthedocs.io/en/stable/user_install.html\n",
      "  from .autonotebook import tqdm as notebook_tqdm\n"
     ]
    },
    {
     "name": "stdout",
     "output_type": "stream",
     "text": [
      "TensorFlow version: 2.10.1\n"
     ]
    }
   ],
   "source": [
    "import tensorflow as tf\n",
    "import tensorflow_hub as hub\n",
    "import tensorflow_datasets as tfds\n",
    "\n",
    "print(f\"TensorFlow version: {tf.__version__}\")"
   ]
  },
  {
   "attachments": {},
   "cell_type": "markdown",
   "metadata": {},
   "source": [
    "# Loading the dataset"
   ]
  },
  {
   "cell_type": "code",
   "execution_count": 2,
   "metadata": {},
   "outputs": [
    {
     "name": "stdout",
     "output_type": "stream",
     "text": [
      "\u001b[1mDownloading and preparing dataset Unknown size (download: Unknown size, generated: Unknown size, total: Unknown size) to C:\\Users\\sophi\\tensorflow_datasets\\imdb_reviews\\plain_text\\1.0.0...\u001b[0m\n"
     ]
    },
    {
     "name": "stderr",
     "output_type": "stream",
     "text": [
      "Dl Size...: 100%|██████████| 80/80 [00:11<00:00,  7.18 MiB/s]rl]\n",
      "Dl Completed...: 100%|██████████| 1/1 [00:11<00:00, 11.14s/ url]\n",
      "                                                                        \r"
     ]
    },
    {
     "name": "stdout",
     "output_type": "stream",
     "text": [
      "\u001b[1mDataset imdb_reviews downloaded and prepared to C:\\Users\\sophi\\tensorflow_datasets\\imdb_reviews\\plain_text\\1.0.0. Subsequent calls will reuse this data.\u001b[0m\n"
     ]
    }
   ],
   "source": [
    "dataset_train, dataset_validate, dataset_test = tfds.load(\n",
    "    name=\"imdb_reviews\",\n",
    "    split=(\"train[:60%]\", \"train[60%:]\", \"test\"),\n",
    "    as_supervised=True,\n",
    ")"
   ]
  },
  {
   "cell_type": "markdown",
   "metadata": {},
   "source": [
    "# Declare model"
   ]
  },
  {
   "cell_type": "code",
   "execution_count": 3,
   "metadata": {},
   "outputs": [
    {
     "name": "stdout",
     "output_type": "stream",
     "text": [
      "Model: \"sequential\"\n",
      "_________________________________________________________________\n",
      " Layer (type)                Output Shape              Param #   \n",
      "=================================================================\n",
      " keras_layer (KerasLayer)    (None, 50)                48190600  \n",
      "                                                                 \n",
      " dense (Dense)               (None, 16)                816       \n",
      "                                                                 \n",
      " dense_1 (Dense)             (None, 1)                 17        \n",
      "                                                                 \n",
      "=================================================================\n",
      "Total params: 48,191,433\n",
      "Trainable params: 48,191,433\n",
      "Non-trainable params: 0\n",
      "_________________________________________________________________\n"
     ]
    }
   ],
   "source": [
    "layer_embedding = hub.KerasLayer(\n",
    "    \"https://tfhub.dev/google/nnlm-en-dim50/2\",\n",
    "    input_shape=[],\n",
    "    dtype=tf.string,\n",
    "    trainable=True,\n",
    ")\n",
    "\n",
    "model = tf.keras.Sequential(\n",
    "    [\n",
    "        layer_embedding,\n",
    "        tf.keras.layers.Dense(16, activation=\"relu\"),\n",
    "        tf.keras.layers.Dense(1),\n",
    "    ]\n",
    ")\n",
    "\n",
    "model.summary()\n",
    "\n",
    "model.compile(\n",
    "    optimizer=\"adam\",\n",
    "    loss=tf.keras.losses.BinaryCrossentropy(from_logits=True),\n",
    "    metrics=[\"accuracy\"],\n",
    ")"
   ]
  },
  {
   "attachments": {},
   "cell_type": "markdown",
   "metadata": {},
   "source": [
    "# Train model"
   ]
  },
  {
   "cell_type": "code",
   "execution_count": 4,
   "metadata": {},
   "outputs": [
    {
     "name": "stdout",
     "output_type": "stream",
     "text": [
      "Epoch 1/10\n",
      "30/30 [==============================] - 4s 104ms/step - loss: 0.6579 - accuracy: 0.5423 - val_loss: 0.6091 - val_accuracy: 0.6329\n",
      "Epoch 2/10\n",
      "30/30 [==============================] - 3s 97ms/step - loss: 0.5477 - accuracy: 0.6991 - val_loss: 0.5076 - val_accuracy: 0.7439\n",
      "Epoch 3/10\n",
      "30/30 [==============================] - 3s 90ms/step - loss: 0.4220 - accuracy: 0.8209 - val_loss: 0.4104 - val_accuracy: 0.8124\n",
      "Epoch 4/10\n",
      "30/30 [==============================] - 3s 89ms/step - loss: 0.3106 - accuracy: 0.8833 - val_loss: 0.3494 - val_accuracy: 0.8458\n",
      "Epoch 5/10\n",
      "30/30 [==============================] - 3s 88ms/step - loss: 0.2286 - accuracy: 0.9198 - val_loss: 0.3179 - val_accuracy: 0.8527\n",
      "Epoch 6/10\n",
      "30/30 [==============================] - 3s 92ms/step - loss: 0.1691 - accuracy: 0.9443 - val_loss: 0.3045 - val_accuracy: 0.8602\n",
      "Epoch 7/10\n",
      "30/30 [==============================] - 3s 89ms/step - loss: 0.1258 - accuracy: 0.9628 - val_loss: 0.3088 - val_accuracy: 0.8754\n",
      "Epoch 8/10\n",
      "30/30 [==============================] - 3s 89ms/step - loss: 0.0938 - accuracy: 0.9763 - val_loss: 0.3079 - val_accuracy: 0.8755\n",
      "Epoch 9/10\n",
      "30/30 [==============================] - 3s 89ms/step - loss: 0.0688 - accuracy: 0.9854 - val_loss: 0.3115 - val_accuracy: 0.8719\n",
      "Epoch 10/10\n",
      "30/30 [==============================] - 3s 89ms/step - loss: 0.0509 - accuracy: 0.9913 - val_loss: 0.3207 - val_accuracy: 0.8721\n"
     ]
    },
    {
     "data": {
      "text/plain": [
       "<keras.callbacks.History at 0x21f624c1c10>"
      ]
     },
     "execution_count": 4,
     "metadata": {},
     "output_type": "execute_result"
    }
   ],
   "source": [
    "model.fit(\n",
    "    dataset_train.shuffle(10000).batch(512),\n",
    "    epochs=10,\n",
    "    validation_data=dataset_validate.batch(512),\n",
    "    verbose=1,\n",
    ")"
   ]
  },
  {
   "attachments": {},
   "cell_type": "markdown",
   "metadata": {},
   "source": [
    "# Evaluate"
   ]
  },
  {
   "cell_type": "code",
   "execution_count": 5,
   "metadata": {},
   "outputs": [
    {
     "name": "stdout",
     "output_type": "stream",
     "text": [
      "49/49 - 1s - loss: 0.3436 - accuracy: 0.8558 - 1s/epoch - 30ms/step\n"
     ]
    },
    {
     "data": {
      "text/plain": [
       "[0.34364956617355347, 0.8557599782943726]"
      ]
     },
     "execution_count": 5,
     "metadata": {},
     "output_type": "execute_result"
    }
   ],
   "source": [
    "model.evaluate(dataset_test.batch(512), verbose=2)"
   ]
  }
 ],
 "metadata": {
  "kernelspec": {
   "display_name": ".venv",
   "language": "python",
   "name": "python3"
  },
  "language_info": {
   "codemirror_mode": {
    "name": "ipython",
    "version": 3
   },
   "file_extension": ".py",
   "mimetype": "text/x-python",
   "name": "python",
   "nbconvert_exporter": "python",
   "pygments_lexer": "ipython3",
   "version": "3.9.13"
  },
  "orig_nbformat": 4
 },
 "nbformat": 4,
 "nbformat_minor": 2
}
